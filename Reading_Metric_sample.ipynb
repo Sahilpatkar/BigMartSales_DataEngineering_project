{
 "cells": [
  {
   "cell_type": "code",
   "execution_count": 4,
   "id": "a6a64e49-5d7f-4b35-91fe-97835ce4731e",
   "metadata": {
    "tags": []
   },
   "outputs": [
    {
     "name": "stdout",
     "output_type": "stream",
     "text": [
      "+----------------+------------------+------------------+----------------+\n",
      "|Item_Fat_Content|       Total_Sales|     Average_Sales|Total_items_sold|\n",
      "+----------------+------------------+------------------+----------------+\n",
      "|         Low Fat|512200.38880000164|142.11997469478402|            3604|\n",
      "|         Regular|273811.70119999995| 139.4153264765784|            1964|\n",
      "+----------------+------------------+------------------+----------------+\n",
      "\n"
     ]
    }
   ],
   "source": [
    "# from pyspark.sql import SparkSession\n",
    "\n",
    "# # Create a Spark session with specific configurations\n",
    "# spark = SparkSession.builder \\\n",
    "#     .appName(\"Sample PySpark Application\") \\\n",
    "#     .config(\"spark.driver.bindAddress\", \"127.0.0.1\") \\\n",
    "#     .config(\"spark.driver.host\", \"127.0.0.1\") \\\n",
    "#     .getOrCreate()\n",
    "\n",
    "# # Verify Spark session\n",
    "# spark\n",
    "\n",
    "from pyspark.sql import SparkSession\n",
    "import config as conf\n",
    "\n",
    "def main():\n",
    "    # create a spark object\n",
    "    spark = SparkSession.builder.appName(\"RetailProject\").getOrCreate()\n",
    "    Retail_df = spark.read.options (header= True, inferschema= True).parquet(f\"./{conf.outputPath}/Sales_based_Item_Fat_Content\");\n",
    "    \n",
    "    Retail_df.show()\n",
    "    \n",
    "    #preprocessing date\n",
    "    #data transformatiion and storage\n",
    "\n",
    "main();\n",
    "    "
   ]
  },
  {
   "cell_type": "code",
   "execution_count": null,
   "id": "8524c23f-de4b-4af6-9c5c-b3273028f598",
   "metadata": {},
   "outputs": [],
   "source": []
  },
  {
   "cell_type": "code",
   "execution_count": null,
   "id": "34839d9d-06d8-4ae7-a494-d852c8f36b43",
   "metadata": {},
   "outputs": [],
   "source": []
  }
 ],
 "metadata": {
  "kernelspec": {
   "display_name": "Python 3 (ipykernel)",
   "language": "python",
   "name": "python3"
  },
  "language_info": {
   "codemirror_mode": {
    "name": "ipython",
    "version": 3
   },
   "file_extension": ".py",
   "mimetype": "text/x-python",
   "name": "python",
   "nbconvert_exporter": "python",
   "pygments_lexer": "ipython3",
   "version": "3.11.5"
  }
 },
 "nbformat": 4,
 "nbformat_minor": 5
}
